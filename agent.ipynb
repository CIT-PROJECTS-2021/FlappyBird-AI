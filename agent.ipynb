{
 "cells": [
  {
   "cell_type": "markdown",
   "metadata": {},
   "source": [
    "# Flappy Bird Machine Learning Using Reinforcement Algorithm\n",
    "\n",
    "### Deep Q-learning using Flappy Bird Game\n",
    "Flappy Bird was a popular mobile game originally developed by Vietnamese video game artist and programmer Dong Nguyen. In it, the player controls a bird and tries to fly between green pipes without hitting them.\n",
    "\n",
    "<img scr=\"assets/screenshots/flappy_screenshot.png\">"
   ]
  }
 ],
 "metadata": {
  "interpreter": {
   "hash": "e45270926853c3e3658149e5958f9832c1c3b3f3ef9d96d1d2844bd5a88f3c70"
  },
  "kernelspec": {
   "display_name": "Python 3.9.9 64-bit ('venv': venv)",
   "language": "python",
   "name": "python3"
  },
  "language_info": {
   "name": "python",
   "version": "3.9.9"
  },
  "orig_nbformat": 4
 },
 "nbformat": 4,
 "nbformat_minor": 2
}
